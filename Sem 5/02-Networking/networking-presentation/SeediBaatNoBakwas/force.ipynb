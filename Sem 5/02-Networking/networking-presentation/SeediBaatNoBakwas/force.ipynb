{
 "cells": [
  {
   "cell_type": "code",
   "execution_count": 2,
   "metadata": {},
   "outputs": [
    {
     "name": "stdout",
     "output_type": "stream",
     "text": [
      "Target hash: 900150983cd24fb0d6963f7d28e17f72\n",
      "Cracked! The original string is: abc\n",
      "Time taken: 0.0010 seconds\n"
     ]
    }
   ],
   "source": [
    "import hashlib\n",
    "import string\n",
    "import time\n",
    "\n",
    "# Function to generate MD5 hash of a string\n",
    "def generate_md5(string_to_hash):\n",
    "    return hashlib.md5(string_to_hash.encode()).hexdigest()\n",
    "\n",
    "# Function for brute force cracking a hash\n",
    "def brute_force_crack(target_hash, max_length=4):\n",
    "    # Start timing\n",
    "    start_time = time.time()\n",
    "\n",
    "    # Define the character set you want to test (lowercase English letters here)\n",
    "    characters = string.ascii_lowercase  # 'abcdefghijklmnopqrstuvwxyz'\n",
    "\n",
    "    # Try every possible combination of the characters from length 1 to max_length\n",
    "    for length in range(1, max_length + 1):\n",
    "        for word in generate_combinations(characters, length):\n",
    "            # Check if the hash matches the target hash\n",
    "            if generate_md5(word) == target_hash:\n",
    "                # End timing when found\n",
    "                end_time = time.time()\n",
    "                elapsed_time = end_time - start_time\n",
    "                print(f\"Cracked! The original string is: {word}\")\n",
    "                print(f\"Time taken: {elapsed_time:.4f} seconds\")\n",
    "                return word  # Found the matching word\n",
    "    # End timing when not found\n",
    "    end_time = time.time()\n",
    "    elapsed_time = end_time - start_time\n",
    "    print(\"Failed to crack the hash.\")\n",
    "    print(f\"Time taken: {elapsed_time:.4f} seconds\")\n",
    "    return None  # If no match found\n",
    "\n",
    "# Function to generate combinations of a given length\n",
    "def generate_combinations(characters, length):\n",
    "    if length == 1:\n",
    "        for c in characters:\n",
    "            yield c\n",
    "    else:\n",
    "        for c in characters:\n",
    "            for combination in generate_combinations(characters, length - 1):\n",
    "                yield c + combination\n",
    "\n",
    "# Example: Let's say the target hash is the hash of \"abc\"\n",
    "target_string = \"abc\"\n",
    "target_hash = generate_md5(target_string)\n",
    "\n",
    "print(\"Target hash:\", target_hash)\n",
    "\n",
    "# Call the brute force function to crack the hash\n",
    "result = brute_force_crack(target_hash)\n"
   ]
  },
  {
   "cell_type": "code",
   "execution_count": 20,
   "metadata": {},
   "outputs": [
    {
     "name": "stdout",
     "output_type": "stream",
     "text": [
      "Failed to crack the hash.\n",
      "Time taken: 0.6429 seconds\n"
     ]
    }
   ],
   "source": [
    "import hashlib\n",
    "import string\n",
    "import time\n",
    "\n",
    "# Function to generate MD5 hash of a string\n",
    "def generate_md5(string_to_hash):\n",
    "    return hashlib.md5(string_to_hash.encode()).hexdigest()\n",
    "\n",
    "# Function for brute force cracking a hash\n",
    "def brute_force_crack(target_hash, max_length=4):\n",
    "    # Start timing\n",
    "    start_time = time.time()\n",
    "\n",
    "    # Define the character set you want to test (lowercase English letters here)\n",
    "    characters = string.ascii_lowercase  # 'abcdefghijklmnopqrstuvwxyz'\n",
    "\n",
    "    # Try every possible combination of the characters from length 1 to max_length\n",
    "    for length in range(1, max_length + 1):\n",
    "        for word in generate_combinations(characters, length):\n",
    "            # Check if the hash matches the target hash\n",
    "            if generate_md5(word) == target_hash:\n",
    "                # End timing when found\n",
    "                end_time = time.time()\n",
    "                elapsed_time = end_time - start_time\n",
    "                print(f\"Cracked! The original string is: {word}\")\n",
    "                print(f\"Time taken: {elapsed_time:.4f} seconds\")\n",
    "                return word  # Found the matching word\n",
    "    # End timing when not found\n",
    "    end_time = time.time()\n",
    "    elapsed_time = end_time - start_time\n",
    "    print(\"Failed to crack the hash.\")\n",
    "    print(f\"Time taken: {elapsed_time:.4f} seconds\")\n",
    "    return None  # If no match found\n",
    "\n",
    "# Function to generate combinations of a given length\n",
    "def generate_combinations(characters, length):\n",
    "    if length == 1:\n",
    "        for c in characters:\n",
    "            yield c\n",
    "    else:\n",
    "        for c in characters:\n",
    "            for combination in generate_combinations(characters, length - 1):\n",
    "                yield c + combination\n",
    "\n",
    "# Main Function to get input hash and crack it\n",
    "def main():\n",
    "    # Get the hash input from the user\n",
    "    # target_hash = input(\"Enter the hash you want to crack (MD5 hash): \").strip()\n",
    "    target_hash = \"8d3015c4d04e03eb595a81ffb46a63d3\"\n",
    "\n",
    "    # Call the brute force function to crack the hash\n",
    "    result = brute_force_crack(target_hash)\n",
    "\n",
    "# Run the main function\n",
    "if __name__ == \"__main__\":\n",
    "    main()\n"
   ]
  },
  {
   "cell_type": "code",
   "execution_count": null,
   "metadata": {},
   "outputs": [],
   "source": []
  },
  {
   "cell_type": "code",
   "execution_count": null,
   "metadata": {},
   "outputs": [],
   "source": []
  }
 ],
 "metadata": {
  "kernelspec": {
   "display_name": "Python 3",
   "language": "python",
   "name": "python3"
  },
  "language_info": {
   "codemirror_mode": {
    "name": "ipython",
    "version": 3
   },
   "file_extension": ".py",
   "mimetype": "text/x-python",
   "name": "python",
   "nbconvert_exporter": "python",
   "pygments_lexer": "ipython3",
   "version": "3.12.0"
  }
 },
 "nbformat": 4,
 "nbformat_minor": 2
}
