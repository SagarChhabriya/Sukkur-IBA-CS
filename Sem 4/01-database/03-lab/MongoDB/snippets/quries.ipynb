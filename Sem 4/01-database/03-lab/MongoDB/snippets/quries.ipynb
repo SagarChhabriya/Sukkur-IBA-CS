{
 "cells": [],
 "metadata": {
  "kernelspec": {
   "display_name": "Python 3",
   "language": "python",
   "name": "python3"
  },
  "language_info": {
   "name": "python",
   "version": "3.12.3"
  }
 },
 "nbformat": 4,
 "nbformat_minor": 2
}
